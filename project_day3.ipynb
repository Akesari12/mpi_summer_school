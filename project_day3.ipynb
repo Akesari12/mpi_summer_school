{
 "cells": [
  {
   "cell_type": "code",
   "execution_count": 4,
   "id": "b7b744af-64af-487e-8148-01073a96c0bb",
   "metadata": {},
   "outputs": [],
   "source": [
    "# import libraries used in this notebook\n",
    "import re\n",
    "import pandas as pd\n",
    "import numpy as np\n",
    "import os\n",
    "from sklearn.feature_extraction.text import CountVectorizer\n",
    "from sklearn.feature_extraction.text import TfidfVectorizer\n",
    "import matplotlib.pyplot as plt\n",
    "import seaborn as sn\n",
    "from sklearn.naive_bayes import MultinomialNB\n",
    "import spacy\n",
    "import en_core_web_sm\n",
    "import pandas as pd\n",
    "from sklearn.naive_bayes import MultinomialNB\n",
    "from sklearn.model_selection import train_test_split\n",
    "from sklearn.decomposition import NMF, LatentDirichletAllocation\n",
    "from sklearn.ensemble import GradientBoostingClassifier\n",
    "from sklearn.ensemble import RandomForestClassifier\n",
    "import numpy as np\n",
    "from sklearn.metrics import confusion_matrix\n",
    "from sklearn.feature_extraction.text import CountVectorizer,TfidfVectorizer\n",
    "import matplotlib.pyplot as plt\n",
    "import seaborn as sns\n",
    "from textblob import TextBlob\n",
    "%matplotlib inline\n",
    "\n",
    "from string import punctuation\n",
    "from tqdm import tqdm\n",
    "\n",
    "# import gensim\n",
    "# from gensim import models\n",
    "# from gensim.models.doc2vec import Doc2Vec, TaggedDocument\n",
    "\n",
    "from sklearn.preprocessing import StandardScaler\n",
    "from sklearn.decomposition import PCA\n",
    "from sklearn import utils\n",
    "from sklearn.linear_model import LogisticRegression\n",
    "from sklearn.model_selection import train_test_split\n",
    "from sklearn.metrics import confusion_matrix\n",
    "from sklearn.preprocessing import LabelBinarizer\n",
    "\n",
    "import multiprocessing"
   ]
  },
  {
   "cell_type": "markdown",
   "id": "1f3e57e2-cfe8-427b-94c6-78bf58199498",
   "metadata": {},
   "source": [
    "## Part 1: Prediction"
   ]
  },
  {
   "cell_type": "markdown",
   "id": "8ced84a1-b01c-47d8-b44e-2752d50666ae",
   "metadata": {},
   "source": [
    "So far we have done two things: (1) predict some outcome based on different variables (e.g. census income bracket) and (2) extract features from text, and use that to predict an outcome (e.g. product category). What happens if we combine the two?"
   ]
  },
  {
   "cell_type": "code",
   "execution_count": 5,
   "id": "35fbfc3f-10bf-4f91-bb40-0d9366e15429",
   "metadata": {},
   "outputs": [],
   "source": [
    "## load 2023 complaints data from data folder as CFPB_2023\n",
    "cfpb = pd.read_csv(os.getcwd()+'\\\\data\\\\CFPB Complaints 2023.csv')\n",
    "# census = pd.read_table(os.getcwd()+\"/data/adult.data\", sep = ',', names = col_names)\n",
    "# Drop observations with missing data in the 'Consumer complaint narrative' column and reset index\n",
    "cfpb = cfpb.dropna(subset=['Consumer complaint narrative']).reset_index(drop=True)"
   ]
  },
  {
   "cell_type": "markdown",
   "id": "c1c29731-a608-4bd3-9372-cb4150a3a77b",
   "metadata": {},
   "source": [
    "**Step 1**: conduct featurization of the text. You can choose whichever method you prefer: tf-idf, word embeddings, classificaition with prompting, etc. You can shoot for the moon, but take into account some methods may not be feasible in the limited time you have. The desired outcome for this step would be the original data frame, with new "
   ]
  },
  {
   "cell_type": "markdown",
   "id": "48b56ba3-4d86-42cb-91ad-8df2e5e585a4",
   "metadata": {},
   "source": [
    "Your code here:"
   ]
  },
  {
   "cell_type": "code",
   "execution_count": null,
   "id": "74859ad4-3638-4468-89ce-1b240bc53010",
   "metadata": {},
   "outputs": [],
   "source": []
  },
  {
   "cell_type": "markdown",
   "id": "dd58dc02-fe05-4311-8fdc-c8e54e168810",
   "metadata": {},
   "source": [
    "**Step 2**: try to predict XXX based on all availabe features, *besides the text*. You can use any classification method you prefer from what we have covered (or otherwise)."
   ]
  },
  {
   "cell_type": "markdown",
   "id": "8c0f68f4-b9b0-4a1c-8580-c17f56b60124",
   "metadata": {},
   "source": [
    "Your code here:"
   ]
  },
  {
   "cell_type": "code",
   "execution_count": null,
   "id": "64b7adb3-07b3-44cb-bee0-b51b1d2343dc",
   "metadata": {},
   "outputs": [],
   "source": []
  },
  {
   "cell_type": "markdown",
   "id": "4cdbad90-8e61-4804-b3a5-519be45cac29",
   "metadata": {},
   "source": [
    "**Step 3**: try to predict XXX based *only on the text* (or rather your text-derived features). You can use any classification method you prefer from what we have covered (or otherwise) - but be consistent with step 2."
   ]
  },
  {
   "cell_type": "markdown",
   "id": "6dff80e0-75ec-4277-8861-8bf628003617",
   "metadata": {},
   "source": [
    "Your code here:"
   ]
  },
  {
   "cell_type": "markdown",
   "id": "b47f9d67-319e-4bd7-a255-0a68cc8bed3f",
   "metadata": {},
   "source": [
    "**Step 4**: predict XXX based on all availabe features, *including* the text. You can use any classification method you prefer from what we have covered (or otherwise) - but be consistent with step 2."
   ]
  },
  {
   "cell_type": "markdown",
   "id": "55845b18-0d74-4caf-b414-daceeef5e71b",
   "metadata": {},
   "source": [
    "Your code here:"
   ]
  },
  {
   "cell_type": "code",
   "execution_count": null,
   "id": "99525aca-49c0-405e-90af-0d6d9c116229",
   "metadata": {},
   "outputs": [],
   "source": []
  },
  {
   "cell_type": "markdown",
   "id": "c8de126b-f039-4830-9007-dc1101d348d1",
   "metadata": {},
   "source": [
    "**Step 4**: evaluate and compare. which model performed better? by what margin? why?"
   ]
  },
  {
   "cell_type": "markdown",
   "id": "3c6e2c23-72de-4552-a83f-1c5b5fb5168a",
   "metadata": {},
   "source": [
    "Your code here:"
   ]
  },
  {
   "cell_type": "code",
   "execution_count": null,
   "id": "bf6b2b20-2118-479b-a225-01d974fb89cf",
   "metadata": {},
   "outputs": [],
   "source": []
  },
  {
   "cell_type": "markdown",
   "id": "8d0c092f-66e7-463f-9b29-dad29c415288",
   "metadata": {},
   "source": [
    "Your answer here:"
   ]
  },
  {
   "cell_type": "markdown",
   "id": "fab127f7-170e-4334-9b6f-6288459bf29b",
   "metadata": {},
   "source": []
  },
  {
   "cell_type": "markdown",
   "id": "c27aa586-e013-4ebb-a717-de2172e9ee7f",
   "metadata": {},
   "source": [
    "## Part 2: Classification"
   ]
  },
  {
   "cell_type": "code",
   "execution_count": null,
   "id": "97b40fbb-e893-447d-ab6e-61ca7719a109",
   "metadata": {},
   "outputs": [],
   "source": []
  }
 ],
 "metadata": {
  "kernelspec": {
   "display_name": "Python 3 (ipykernel)",
   "language": "python",
   "name": "python3"
  },
  "language_info": {
   "codemirror_mode": {
    "name": "ipython",
    "version": 3
   },
   "file_extension": ".py",
   "mimetype": "text/x-python",
   "name": "python",
   "nbconvert_exporter": "python",
   "pygments_lexer": "ipython3",
   "version": "3.12.4"
  }
 },
 "nbformat": 4,
 "nbformat_minor": 5
}
